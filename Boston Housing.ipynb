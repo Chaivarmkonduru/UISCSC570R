{
 "cells": [
  {
   "cell_type": "markdown",
   "metadata": {},
   "source": [
    "# Boston Housing Assignment"
   ]
  },
  {
   "cell_type": "code",
   "execution_count": 9,
   "metadata": {
    "collapsed": true
   },
   "outputs": [],
   "source": [
    "from sklearn import datasets\n",
    "import pandas as pd\n",
    "from sklearn.preprocessing import StandardScaler\n",
    "from sklearn.cross_validation import train_test_split\n",
    "from sklearn.metrics import mean_squared_error\n",
    "from sklearn.metrics import r2_score\n",
    "from sklearn.linear_model import LinearRegression\n",
    "from sklearn.linear_model import Ridge"
   ]
  },
  {
   "cell_type": "code",
   "execution_count": 10,
   "metadata": {
    "collapsed": false
   },
   "outputs": [
    {
     "name": "stdout",
     "output_type": "stream",
     "text": [
      "Boston House Prices dataset\n",
      "\n",
      "Notes\n",
      "------\n",
      "Data Set Characteristics:  \n",
      "\n",
      "    :Number of Instances: 506 \n",
      "\n",
      "    :Number of Attributes: 13 numeric/categorical predictive\n",
      "    \n",
      "    :Median Value (attribute 14) is usually the target\n",
      "\n",
      "    :Attribute Information (in order):\n",
      "        - CRIM     per capita crime rate by town\n",
      "        - ZN       proportion of residential land zoned for lots over 25,000 sq.ft.\n",
      "        - INDUS    proportion of non-retail business acres per town\n",
      "        - CHAS     Charles River dummy variable (= 1 if tract bounds river; 0 otherwise)\n",
      "        - NOX      nitric oxides concentration (parts per 10 million)\n",
      "        - RM       average number of rooms per dwelling\n",
      "        - AGE      proportion of owner-occupied units built prior to 1940\n",
      "        - DIS      weighted distances to five Boston employment centres\n",
      "        - RAD      index of accessibility to radial highways\n",
      "        - TAX      full-value property-tax rate per $10,000\n",
      "        - PTRATIO  pupil-teacher ratio by town\n",
      "        - B        1000(Bk - 0.63)^2 where Bk is the proportion of blacks by town\n",
      "        - LSTAT    % lower status of the population\n",
      "        - MEDV     Median value of owner-occupied homes in $1000's\n",
      "\n",
      "    :Missing Attribute Values: None\n",
      "\n",
      "    :Creator: Harrison, D. and Rubinfeld, D.L.\n",
      "\n",
      "This is a copy of UCI ML housing dataset.\n",
      "http://archive.ics.uci.edu/ml/datasets/Housing\n",
      "\n",
      "\n",
      "This dataset was taken from the StatLib library which is maintained at Carnegie Mellon University.\n",
      "\n",
      "The Boston house-price data of Harrison, D. and Rubinfeld, D.L. 'Hedonic\n",
      "prices and the demand for clean air', J. Environ. Economics & Management,\n",
      "vol.5, 81-102, 1978.   Used in Belsley, Kuh & Welsch, 'Regression diagnostics\n",
      "...', Wiley, 1980.   N.B. Various transformations are used in the table on\n",
      "pages 244-261 of the latter.\n",
      "\n",
      "The Boston house-price data has been used in many machine learning papers that address regression\n",
      "problems.   \n",
      "     \n",
      "**References**\n",
      "\n",
      "   - Belsley, Kuh & Welsch, 'Regression diagnostics: Identifying Influential Data and Sources of Collinearity', Wiley, 1980. 244-261.\n",
      "   - Quinlan,R. (1993). Combining Instance-Based and Model-Based Learning. In Proceedings on the Tenth International Conference of Machine Learning, 236-243, University of Massachusetts, Amherst. Morgan Kaufmann.\n",
      "   - many more! (see http://archive.ics.uci.edu/ml/datasets/Housing)\n",
      "\n"
     ]
    }
   ],
   "source": [
    "bean = datasets.load_boston()\n",
    "print bean.DESCR"
   ]
  },
  {
   "cell_type": "code",
   "execution_count": 11,
   "metadata": {
    "collapsed": true
   },
   "outputs": [],
   "source": [
    "def load_boston():\n",
    "    scaler = StandardScaler()\n",
    "    boston = datasets.load_boston()\n",
    "    X=boston.data\n",
    "    y=boston.target\n",
    "    X = scaler.fit_transform(X)\n",
    "    return train_test_split(X,y)"
   ]
  },
  {
   "cell_type": "code",
   "execution_count": 13,
   "metadata": {
    "collapsed": true
   },
   "outputs": [],
   "source": [
    "X_train, X_test, y_train, y_test = load_boston()"
   ]
  },
  {
   "cell_type": "code",
   "execution_count": 14,
   "metadata": {
    "collapsed": false
   },
   "outputs": [
    {
     "data": {
      "text/plain": [
       "(379L, 13L)"
      ]
     },
     "execution_count": 14,
     "metadata": {},
     "output_type": "execute_result"
    }
   ],
   "source": [
    "X_train.shape"
   ]
  },
  {
   "cell_type": "code",
   "execution_count": 6,
   "metadata": {
    "collapsed": false
   },
   "outputs": [
    {
     "data": {
      "text/plain": [
       "LinearRegression(copy_X=True, fit_intercept=True, n_jobs=1, normalize=False)"
      ]
     },
     "execution_count": 6,
     "metadata": {},
     "output_type": "execute_result"
    }
   ],
   "source": [
    "Lreg= LinearRegression()\n",
    "Lreg.fit(X_train, y_train)"
   ]
  },
  {
   "cell_type": "code",
   "execution_count": 7,
   "metadata": {
    "collapsed": false
   },
   "outputs": [
    {
     "data": {
      "text/plain": [
       "[(23.0, 24.093521954875296),\n",
       " (18.899999999999999, 18.05892606745341),\n",
       " (19.399999999999999, 23.97786045555506),\n",
       " (13.9, 16.861774630379486),\n",
       " (14.9, 17.532644528784097),\n",
       " (17.0, 22.562318661081065),\n",
       " (12.800000000000001, 13.052066515270697),\n",
       " (50.0, 35.276405331841787),\n",
       " (23.899999999999999, 26.854202754683662),\n",
       " (30.100000000000001, 28.866379825551704),\n",
       " (38.700000000000003, 33.994214569968499),\n",
       " (25.0, 24.931878677981622),\n",
       " (26.600000000000001, 22.464454522709197),\n",
       " (28.5, 33.776047020286171),\n",
       " (19.199999999999999, 23.355052337632113),\n",
       " (48.5, 41.180598783835521),\n",
       " (24.300000000000001, 20.459598534662508),\n",
       " (13.6, 12.120448236206673),\n",
       " (29.800000000000001, 25.123552867978333),\n",
       " (31.600000000000001, 31.229417577585007),\n",
       " (18.100000000000001, 16.502179625985207),\n",
       " (34.899999999999999, 33.985323612191678),\n",
       " (24.199999999999999, 25.5494562650814),\n",
       " (22.600000000000001, 24.697629367671293),\n",
       " (50.0, 24.775129519524722),\n",
       " (16.5, 10.120726750890343),\n",
       " (27.100000000000001, 26.618833229465576),\n",
       " (36.200000000000003, 27.271433693169556),\n",
       " (10.199999999999999, 6.5446146023262042),\n",
       " (25.0, 27.901083373634137),\n",
       " (19.5, 18.041308354949109),\n",
       " (14.4, 7.8000680418721853),\n",
       " (14.4, 3.3587687260716592),\n",
       " (50.0, 34.576057003925534),\n",
       " (25.300000000000001, 25.763717290300644),\n",
       " (16.100000000000001, 22.067428209098413),\n",
       " (28.399999999999999, 30.339104238190259),\n",
       " (22.0, 25.497985905978688),\n",
       " (25.0, 22.428458747340862),\n",
       " (13.4, 16.951147040818686),\n",
       " (22.5, 29.710643869510399),\n",
       " (27.5, 19.189551942352061),\n",
       " (24.399999999999999, 23.308703860999923),\n",
       " (24.399999999999999, 24.772269752580925),\n",
       " (13.800000000000001, 0.94963043357234156),\n",
       " (30.699999999999999, 29.716217486595625),\n",
       " (19.899999999999999, 19.840968075510354),\n",
       " (21.600000000000001, 25.077990731153559),\n",
       " (7.2000000000000002, 7.8123220322725704),\n",
       " (24.5, 27.998151713591621),\n",
       " (7.2000000000000002, 17.181845353348717),\n",
       " (22.300000000000001, 27.196990421719562),\n",
       " (23.699999999999999, 28.665214060547726),\n",
       " (15.4, 17.532333774699179),\n",
       " (19.5, 19.745461437199936),\n",
       " (14.5, 13.204395055504399),\n",
       " (11.9, 9.0025090785070265),\n",
       " (28.399999999999999, 28.193387937817054),\n",
       " (18.899999999999999, 23.702827177257316),\n",
       " (19.899999999999999, 19.749288614070874),\n",
       " (9.5, 13.13944792838733),\n",
       " (17.5, 16.703857867067718),\n",
       " (50.0, 39.140533767441902),\n",
       " (50.0, 40.889388019013431),\n",
       " (20.100000000000001, 23.303070699012252),\n",
       " (18.600000000000001, 18.197096771424452),\n",
       " (8.8000000000000007, 4.1718738915293621),\n",
       " (17.800000000000001, 21.335459147927331),\n",
       " (22.300000000000001, 25.617930576639004),\n",
       " (20.399999999999999, 20.332004033712053),\n",
       " (14.1, 18.357484403566687),\n",
       " (27.5, 24.005508633943482),\n",
       " (22.5, 17.293615023357916),\n",
       " (15.199999999999999, 15.139727008441293),\n",
       " (50.0, 35.220206121123567),\n",
       " (20.699999999999999, 21.957312596094376),\n",
       " (24.600000000000001, 25.246547769686536),\n",
       " (23.300000000000001, 22.454373107051161),\n",
       " (13.6, 13.280178478857616),\n",
       " (19.399999999999999, 19.131458970764577),\n",
       " (31.5, 31.458701472731832),\n",
       " (21.0, 23.502192448490909),\n",
       " (8.4000000000000004, 14.850527305355941),\n",
       " (32.0, 33.08735756041596),\n",
       " (13.4, 14.523423947409729),\n",
       " (10.9, 15.348898864874807),\n",
       " (19.800000000000001, 21.936900758670873),\n",
       " (29.399999999999999, 30.661696015332954),\n",
       " (13.1, 14.640402092082958),\n",
       " (16.0, 18.062367024534652),\n",
       " (37.299999999999997, 34.51565737033755),\n",
       " (8.3000000000000007, 13.289340686057248),\n",
       " (8.8000000000000007, 7.3267178405496196),\n",
       " (39.799999999999997, 32.875460271938863),\n",
       " (19.300000000000001, 16.712505808100676),\n",
       " (22.0, 21.356132962970481),\n",
       " (13.5, 14.148262011871871),\n",
       " (25.0, 24.444921258919852),\n",
       " (24.100000000000001, 29.644650274948788),\n",
       " (15.0, 16.658003784360773),\n",
       " (18.5, 19.413780483473339),\n",
       " (14.0, 12.651278063598713),\n",
       " (36.100000000000001, 32.66341843709003),\n",
       " (33.399999999999999, 28.286391832841066),\n",
       " (22.800000000000001, 25.196122261909629),\n",
       " (44.0, 37.102799564004627),\n",
       " (48.799999999999997, 38.737724663985915),\n",
       " (8.5, 16.156829581908081),\n",
       " (19.0, 15.314837461121503),\n",
       " (43.5, 38.266506471362362),\n",
       " (14.9, 15.656419277303783),\n",
       " (10.4, 14.078240858406216),\n",
       " (16.100000000000001, 18.294028590688278),\n",
       " (13.1, 19.719042171392786),\n",
       " (33.200000000000003, 35.370103307956427),\n",
       " (19.399999999999999, 17.433202368477239),\n",
       " (23.800000000000001, 24.796124218853379),\n",
       " (27.899999999999999, 32.349087096792275),\n",
       " (24.100000000000001, 25.976101024256486),\n",
       " (20.100000000000001, 21.00118641507396),\n",
       " (19.899999999999999, 19.078179148324693),\n",
       " (11.699999999999999, 15.918298153591337),\n",
       " (21.5, 20.4525486365403),\n",
       " (21.699999999999999, 24.048620314569753),\n",
       " (31.5, 31.592848115419251),\n",
       " (7.4000000000000004, 5.7001396754670708),\n",
       " (50.0, 37.442840686898592)]"
      ]
     },
     "execution_count": 7,
     "metadata": {},
     "output_type": "execute_result"
    }
   ],
   "source": [
    "zip (y_test, Lreg.predict(X_test))"
   ]
  },
  {
   "cell_type": "code",
   "execution_count": 16,
   "metadata": {
    "collapsed": true
   },
   "outputs": [],
   "source": [
    "y_LinearPrediction=Lreg.predict(X_test)"
   ]
  },
  {
   "cell_type": "code",
   "execution_count": 17,
   "metadata": {
    "collapsed": false
   },
   "outputs": [],
   "source": [
    "Mean_square_Value=mean_squared_error(y_test,y_LinearPrediction)"
   ]
  },
  {
   "cell_type": "code",
   "execution_count": 18,
   "metadata": {
    "collapsed": false
   },
   "outputs": [
    {
     "data": {
      "text/plain": [
       "23.909644224772311"
      ]
     },
     "execution_count": 18,
     "metadata": {},
     "output_type": "execute_result"
    }
   ],
   "source": [
    "Mean_square_Value"
   ]
  },
  {
   "cell_type": "code",
   "execution_count": 19,
   "metadata": {
    "collapsed": false
   },
   "outputs": [
    {
     "data": {
      "text/plain": [
       "0.66541782530911764"
      ]
     },
     "execution_count": 19,
     "metadata": {},
     "output_type": "execute_result"
    }
   ],
   "source": [
    "r_Score=r2_score(y_test,y_LinearPrediction)\n",
    "r_Score"
   ]
  },
  {
   "cell_type": "markdown",
   "metadata": {},
   "source": [
    "# Now Mean Squared Error and R squared values are \n",
    "\n",
    "Mean Squared Value 23.909644224772311  R Squared Value 0.66541782530911764"
   ]
  },
  {
   "cell_type": "code",
   "execution_count": 22,
   "metadata": {
    "collapsed": true
   },
   "outputs": [],
   "source": [
    "Ridge=Ridge(alpha=0.01)"
   ]
  },
  {
   "cell_type": "code",
   "execution_count": 23,
   "metadata": {
    "collapsed": false
   },
   "outputs": [
    {
     "data": {
      "text/plain": [
       "Ridge(alpha=0.01, copy_X=True, fit_intercept=True, max_iter=None,\n",
       "   normalize=False, random_state=None, solver='auto', tol=0.001)"
      ]
     },
     "execution_count": 23,
     "metadata": {},
     "output_type": "execute_result"
    }
   ],
   "source": [
    "Ridge.fit(X_train,y_train)"
   ]
  },
  {
   "cell_type": "code",
   "execution_count": 24,
   "metadata": {
    "collapsed": false
   },
   "outputs": [
    {
     "data": {
      "text/plain": [
       "[(32.0, 34.520334513850315),\n",
       " (15.0, 26.102383554282383),\n",
       " (18.100000000000001, 17.560814042557027),\n",
       " (24.300000000000001, 24.374554284526464),\n",
       " (17.800000000000001, 8.8268012084437117),\n",
       " (12.5, 18.901886397399846),\n",
       " (12.300000000000001, 12.478670226188358),\n",
       " (17.300000000000001, 16.28780926310543),\n",
       " (23.699999999999999, 28.666924856630175),\n",
       " (17.100000000000001, 20.040060117903316),\n",
       " (24.800000000000001, 26.378227437605702),\n",
       " (27.899999999999999, 32.525605392902271),\n",
       " (20.199999999999999, 16.236418171720725),\n",
       " (20.0, 20.249159507537328),\n",
       " (24.300000000000001, 30.030739216228124),\n",
       " (34.899999999999999, 34.855323534498197),\n",
       " (14.9, 17.040911564259762),\n",
       " (11.699999999999999, 16.266322294136252),\n",
       " (10.4, 18.816930306169034),\n",
       " (10.4, 7.1445299387755643),\n",
       " (28.100000000000001, 25.484117567355199),\n",
       " (21.0, 23.238574654514085),\n",
       " (22.199999999999999, 19.187195195763255),\n",
       " (48.799999999999997, 41.000331584061364),\n",
       " (22.899999999999999, 29.687001258403782),\n",
       " (21.399999999999999, 23.18501731515066),\n",
       " (13.6, 14.286552884719345),\n",
       " (21.199999999999999, 23.082333618971695),\n",
       " (21.899999999999999, 24.481557798495032),\n",
       " (23.699999999999999, 27.667933049568198),\n",
       " (20.600000000000001, 22.889386057179312),\n",
       " (13.5, 13.211896536289347),\n",
       " (10.9, 15.781721913650532),\n",
       " (27.0, 33.478028229071086),\n",
       " (21.699999999999999, 24.819438948773488),\n",
       " (20.199999999999999, 22.641781316421564),\n",
       " (19.5, 18.376431770514465),\n",
       " (24.399999999999999, 24.446695015312816),\n",
       " (23.100000000000001, 24.478405159522907),\n",
       " (14.1, 17.396823670763787),\n",
       " (17.199999999999999, 13.061545540779669),\n",
       " (13.9, 13.151701026131526),\n",
       " (19.399999999999999, 16.924777288186483),\n",
       " (15.0, 18.236401847661998),\n",
       " (20.100000000000001, 20.041742539894553),\n",
       " (22.0, 29.03292958605596),\n",
       " (7.5, 12.666561547272362),\n",
       " (35.100000000000001, 35.60978824036691),\n",
       " (14.5, 13.358814142249599),\n",
       " (10.9, 18.545455790201292),\n",
       " (15.6, 15.458504194272887),\n",
       " (18.199999999999999, 18.553325823136007),\n",
       " (31.5, 31.578046896787381),\n",
       " (23.899999999999999, 24.8267064539803),\n",
       " (22.0, 21.367701988089422),\n",
       " (11.800000000000001, 7.8356056245902348),\n",
       " (16.5, 21.95116421306474),\n",
       " (29.0, 31.532836112248567),\n",
       " (24.5, 20.468627420713162),\n",
       " (44.799999999999997, 38.653820583729967),\n",
       " (22.600000000000001, 24.286873834703822),\n",
       " (13.800000000000001, 11.083028038351598),\n",
       " (20.0, 23.258301432684068),\n",
       " (22.5, 17.591721264437595),\n",
       " (30.300000000000001, 32.80977453073632),\n",
       " (19.300000000000001, 21.070979908501894),\n",
       " (13.1, 16.155609838692584),\n",
       " (50.0, 33.237905188844692),\n",
       " (11.300000000000001, 12.982564214098764),\n",
       " (16.5, 10.182926105358376),\n",
       " (30.699999999999999, 30.694386484136295),\n",
       " (7.4000000000000004, 5.3205867254648425),\n",
       " (15.6, 15.751960832706898),\n",
       " (29.399999999999999, 30.924448005749987),\n",
       " (17.399999999999999, 16.196672715068313),\n",
       " (8.8000000000000007, 9.4868798289551091),\n",
       " (20.0, 18.475314108702488),\n",
       " (20.399999999999999, 20.157779553682097),\n",
       " (22.600000000000001, 22.867195653417493),\n",
       " (31.699999999999999, 33.546633184574375),\n",
       " (32.399999999999999, 36.518658393515537),\n",
       " (14.6, 7.5696214337145253),\n",
       " (22.100000000000001, 27.445702880387216),\n",
       " (12.800000000000001, 12.605420471951003),\n",
       " (17.100000000000001, 17.034586717054808),\n",
       " (22.899999999999999, 25.383419312949581),\n",
       " (21.399999999999999, 24.434965678790228),\n",
       " (17.800000000000001, 16.662405162143678),\n",
       " (26.199999999999999, 24.246447587408504),\n",
       " (26.600000000000001, 28.375604498206481),\n",
       " (29.899999999999999, 31.581793068729112),\n",
       " (22.699999999999999, 25.430293657818602),\n",
       " (17.800000000000001, 22.29043389309674),\n",
       " (19.300000000000001, 16.183401577490081),\n",
       " (23.100000000000001, 20.924445973272597),\n",
       " (34.899999999999999, 30.587064084021595),\n",
       " (25.199999999999999, 27.613018035254228),\n",
       " (22.699999999999999, 21.97760357076838),\n",
       " (32.899999999999999, 31.124923491242861),\n",
       " (29.0, 32.226971805955039),\n",
       " (42.799999999999997, 30.154509219092553),\n",
       " (23.300000000000001, 28.63200268514543),\n",
       " (21.399999999999999, 22.519550753844371),\n",
       " (18.5, 19.501969867419753),\n",
       " (18.399999999999999, 18.501299069563672),\n",
       " (19.5, 16.846912060679269),\n",
       " (20.300000000000001, 23.876997529566918),\n",
       " (24.399999999999999, 23.867440249326886),\n",
       " (13.4, 12.580946727642587),\n",
       " (50.0, 36.090052752586367),\n",
       " (24.100000000000001, 20.803942060846964),\n",
       " (23.899999999999999, 28.358308112152198),\n",
       " (23.899999999999999, 27.969530240781964),\n",
       " (31.0, 34.18175093301295),\n",
       " (20.100000000000001, 21.534028702943729),\n",
       " (18.800000000000001, 21.072954802087153),\n",
       " (16.100000000000001, 21.757471767191859),\n",
       " (15.6, 19.868982154680218),\n",
       " (17.899999999999999, 1.1550180361845968),\n",
       " (22.199999999999999, 24.212588480771046),\n",
       " (29.100000000000001, 32.115921589432929),\n",
       " (50.0, 25.61140905619019),\n",
       " (11.9, 22.960236930876945),\n",
       " (22.800000000000001, 29.296165919253784),\n",
       " (10.5, 12.996815005835195),\n",
       " (24.5, 27.855390548481871),\n",
       " (32.0, 33.732815579434195)]"
      ]
     },
     "execution_count": 24,
     "metadata": {},
     "output_type": "execute_result"
    }
   ],
   "source": [
    "zip(y_test,ridge.predict(X_test))"
   ]
  },
  {
   "cell_type": "code",
   "execution_count": 27,
   "metadata": {
    "collapsed": true
   },
   "outputs": [],
   "source": [
    "y_RegressionPredict=ridge.predict(X_test)"
   ]
  },
  {
   "cell_type": "code",
   "execution_count": 28,
   "metadata": {
    "collapsed": false
   },
   "outputs": [],
   "source": [
    "r2RegressionScore=r2_score(y_test,y_RegressionPredict)"
   ]
  },
  {
   "cell_type": "code",
   "execution_count": 29,
   "metadata": {
    "collapsed": false
   },
   "outputs": [
    {
     "data": {
      "text/plain": [
       "0.64759847971039775"
      ]
     },
     "execution_count": 29,
     "metadata": {},
     "output_type": "execute_result"
    }
   ],
   "source": [
    "r2RegressionScore"
   ]
  },
  {
   "cell_type": "code",
   "execution_count": 31,
   "metadata": {
    "collapsed": false
   },
   "outputs": [],
   "source": [
    "mseRegressionScore=mean_squared_error(y_test,y_RegressionPredict)"
   ]
  },
  {
   "cell_type": "code",
   "execution_count": 32,
   "metadata": {
    "collapsed": false
   },
   "outputs": [
    {
     "data": {
      "text/plain": [
       "25.183036072312557"
      ]
     },
     "execution_count": 32,
     "metadata": {},
     "output_type": "execute_result"
    }
   ],
   "source": [
    "mseRegressionScore"
   ]
  },
  {
   "cell_type": "markdown",
   "metadata": {},
   "source": [
    "# Now Mean Square Error and R Squared value after applying Ridge linear Model is\n",
    "\n",
    "Mean Square error is 25.183036072312557 R Squared Value 0.64759847971039775"
   ]
  },
  {
   "cell_type": "code",
   "execution_count": null,
   "metadata": {
    "collapsed": true
   },
   "outputs": [],
   "source": []
  }
 ],
 "metadata": {
  "kernelspec": {
   "display_name": "Python [Root]",
   "language": "python",
   "name": "Python [Root]"
  },
  "language_info": {
   "codemirror_mode": {
    "name": "ipython",
    "version": 2
   },
   "file_extension": ".py",
   "mimetype": "text/x-python",
   "name": "python",
   "nbconvert_exporter": "python",
   "pygments_lexer": "ipython2",
   "version": "2.7.12"
  }
 },
 "nbformat": 4,
 "nbformat_minor": 0
}
